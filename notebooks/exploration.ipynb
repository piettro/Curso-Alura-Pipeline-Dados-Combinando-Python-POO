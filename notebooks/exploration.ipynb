{
 "cells": [
  {
   "cell_type": "markdown",
   "id": "65b3c2b4",
   "metadata": {},
   "source": [
    "Reading Data"
   ]
  },
  {
   "cell_type": "code",
   "execution_count": 9,
   "id": "e5615f1b",
   "metadata": {},
   "outputs": [],
   "source": [
    "import json\n",
    "import csv\n",
    "\n",
    "path_json = '../data_raw/dados_empresaA.json' \n",
    "path_csv = '../data_raw/dados_empresaB.csv' "
   ]
  },
  {
   "cell_type": "code",
   "execution_count": 3,
   "id": "aadf8090",
   "metadata": {},
   "outputs": [
    {
     "name": "stdout",
     "output_type": "stream",
     "text": [
      "[{\"Nome do Produto\":\"Blush em p\\u00f3\",\"Categoria do Produto\":\"Eletrodom\\u00e9sticos\",\"Pre\\u00e7o do Produto (R$)\":79.41,\"Quantidade em Estoque\":7,\"Filial\":\"Filial 7\"},\n",
      "\n"
     ]
    }
   ],
   "source": [
    "with open(path_json, 'r') as file:\n",
    "    print(file.readline())"
   ]
  },
  {
   "cell_type": "code",
   "execution_count": null,
   "id": "ba708d6b",
   "metadata": {},
   "outputs": [
    {
     "name": "stdout",
     "output_type": "stream",
     "text": [
      "{'Nome do Produto': 'Blush em pó', 'Categoria do Produto': 'Eletrodomésticos', 'Preço do Produto (R$)': 79.41, 'Quantidade em Estoque': 7, 'Filial': 'Filial 7'}\n"
     ]
    }
   ],
   "source": [
    "with open(path_json, 'r') as file:\n",
    "    data_json = json.load(file)\n",
    "\n",
    "print(data_json[0])"
   ]
  },
  {
   "cell_type": "code",
   "execution_count": 11,
   "id": "ae8bea31",
   "metadata": {},
   "outputs": [
    {
     "name": "stdout",
     "output_type": "stream",
     "text": [
      "{'Nome do Item': 'LÃ¡pis de sobrancelha', 'ClassificaÃ§Ã£o do Produto': 'Roupas', 'Valor em Reais (R$)': '55.17', 'Quantidade em Estoque': '62', 'Nome da Loja': 'Filial 1', 'Data da Venda': '2023-04-13 18:58:06.794203'}\n"
     ]
    }
   ],
   "source": [
    "data_csv = []\n",
    "with open(path_csv, 'r') as file:\n",
    "    spamreader = csv.DictReader(file, delimiter=',')\n",
    "    for row in spamreader:\n",
    "        data_csv.append(row)\n",
    "\n",
    "print(data_csv[0])"
   ]
  }
 ],
 "metadata": {
  "kernelspec": {
   "display_name": ".venv",
   "language": "python",
   "name": "python3"
  },
  "language_info": {
   "codemirror_mode": {
    "name": "ipython",
    "version": 3
   },
   "file_extension": ".py",
   "mimetype": "text/x-python",
   "name": "python",
   "nbconvert_exporter": "python",
   "pygments_lexer": "ipython3",
   "version": "3.9.13"
  }
 },
 "nbformat": 4,
 "nbformat_minor": 5
}
